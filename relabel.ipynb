{
 "cells": [
  {
   "cell_type": "code",
   "execution_count": 2,
   "metadata": {},
   "outputs": [],
   "source": [
    "import pandas as pd\n",
    "import numpy as np\n",
    "import os\n",
    "from sklearn.preprocessing import StandardScaler,RobustScaler\n",
    "from sklearn import metrics\n",
    "import matplotlib.pyplot as plt\n",
    "from scipy import signal\n",
    "import glob\n",
    "import antropy\n",
    "from xgboost import XGBClassifier\n",
    "from sklearn.model_selection import train_test_split\n",
    "from sklearn.metrics import accuracy_score\n",
    "from sklearn.model_selection import GridSearchCV\n",
    "from scipy.signal import butter, sosfilt, sosfreqz, detrend,stft\n",
    "import math\n",
    "from scipy.signal import stft,find_peaks\n",
    "from scipy.stats import kurtosis,skew\n",
    "import seaborn as sns\n",
    "from sklearn.preprocessing import MinMaxScaler,StandardScaler\n",
    "import pywt"
   ]
  },
  {
   "cell_type": "markdown",
   "metadata": {},
   "source": [
    "#### extract wrong label data"
   ]
  },
  {
   "cell_type": "code",
   "execution_count": 6,
   "metadata": {},
   "outputs": [
    {
     "name": "stdout",
     "output_type": "stream",
     "text": [
      "1369\n",
      "1262\n"
     ]
    }
   ],
   "source": [
    "label = pd.read_parquet(r\"wrong_instances_rs_1.parquet\")\n",
    "label.head()\n",
    "\n",
    "print(len(label[label[\"label_eating\"] == 0]))\n",
    "print(len(label[label[\"label_eating\"] == 1]))"
   ]
  },
  {
   "cell_type": "code",
   "execution_count": 4,
   "metadata": {},
   "outputs": [
    {
     "name": "stdout",
     "output_type": "stream",
     "text": [
      "File: ./original\\8.1_launch_1\\0_sensor_data.csv\n",
      "20\n",
      "Start: 324.0, End: 443.0\n",
      "Start: 564.0, End: 863.0\n",
      "Start: 1464.0, End: 1583.0\n",
      "Start: 2184.0, End: 2303.0\n",
      "Start: 3624.0, End: 3743.0\n",
      "Start: 5184.0, End: 5303.0\n",
      "Start: 6084.0, End: 6203.0\n",
      "Start: 8604.0, End: 8723.0\n",
      "Start: 9744.0, End: 9863.0\n",
      "Start: 11544.0, End: 11903.0\n",
      "Start: 12324.0, End: 12443.0\n",
      "Start: 12924.0, End: 13043.0\n",
      "Start: 14964.0, End: 15083.0\n",
      "Start: 15324.0, End: 15443.0\n",
      "Start: 16224.0, End: 16343.0\n",
      "Start: 16884.0, End: 17003.0\n",
      "Start: 17304.0, End: 17423.0\n",
      "Start: 17904.0, End: 18023.0\n",
      "Start: 18924.0, End: 19043.0\n",
      "Start: 19284.0, End: 19403.0\n",
      "File: ./original\\7.25_launch\\0_sensor_data.csv\n",
      "18\n"
     ]
    },
    {
     "ename": "KeyboardInterrupt",
     "evalue": "",
     "output_type": "error",
     "traceback": [
      "\u001b[1;31m---------------------------------------------------------------------------\u001b[0m",
      "\u001b[1;31mKeyboardInterrupt\u001b[0m                         Traceback (most recent call last)",
      "Cell \u001b[1;32mIn[4], line 37\u001b[0m\n\u001b[0;32m     35\u001b[0m \u001b[38;5;28mprint\u001b[39m(\u001b[38;5;124mf\u001b[39m\u001b[38;5;124m\"\u001b[39m\u001b[38;5;124mFile: \u001b[39m\u001b[38;5;132;01m{\u001b[39;00mfile_name\u001b[38;5;132;01m}\u001b[39;00m\u001b[38;5;124m\"\u001b[39m)\n\u001b[0;32m     36\u001b[0m \u001b[38;5;28mprint\u001b[39m(\u001b[38;5;28mlen\u001b[39m(data_points))\n\u001b[1;32m---> 37\u001b[0m offset \u001b[38;5;241m=\u001b[39m \u001b[43mread_offset\u001b[49m\u001b[43m(\u001b[49m\u001b[43mfile_name\u001b[49m\u001b[43m)\u001b[49m\n\u001b[0;32m     38\u001b[0m \u001b[38;5;28;01mfor\u001b[39;00m start, end \u001b[38;5;129;01min\u001b[39;00m data_points:\n\u001b[0;32m     39\u001b[0m     \u001b[38;5;28mprint\u001b[39m(\u001b[38;5;124mf\u001b[39m\u001b[38;5;124m\"\u001b[39m\u001b[38;5;124mStart: \u001b[39m\u001b[38;5;132;01m{\u001b[39;00mstart\u001b[38;5;241m-\u001b[39moffset\u001b[38;5;132;01m}\u001b[39;00m\u001b[38;5;124m, End: \u001b[39m\u001b[38;5;132;01m{\u001b[39;00mend\u001b[38;5;241m-\u001b[39moffset\u001b[38;5;132;01m}\u001b[39;00m\u001b[38;5;124m\"\u001b[39m)\n",
      "Cell \u001b[1;32mIn[4], line 26\u001b[0m, in \u001b[0;36mread_offset\u001b[1;34m(file_name)\u001b[0m\n\u001b[0;32m     24\u001b[0m \u001b[38;5;28;01mdef\u001b[39;00m \u001b[38;5;21mread_offset\u001b[39m(file_name):\n\u001b[0;32m     25\u001b[0m     target_path \u001b[38;5;241m=\u001b[39m \u001b[38;5;124m\"\u001b[39m\u001b[38;5;124mlabel/\u001b[39m\u001b[38;5;124m\"\u001b[39m\u001b[38;5;241m+\u001b[39mfile_name\u001b[38;5;241m.\u001b[39msplit(\u001b[38;5;124m\"\u001b[39m\u001b[38;5;130;01m\\\\\u001b[39;00m\u001b[38;5;124m\"\u001b[39m)[\u001b[38;5;241m1\u001b[39m]\u001b[38;5;241m+\u001b[39m\u001b[38;5;124m\"\u001b[39m\u001b[38;5;124m/n_sensor_data.xlsx\u001b[39m\u001b[38;5;124m\"\u001b[39m\n\u001b[1;32m---> 26\u001b[0m     sheet \u001b[38;5;241m=\u001b[39m \u001b[43mpd\u001b[49m\u001b[38;5;241;43m.\u001b[39;49m\u001b[43mread_excel\u001b[49m\u001b[43m(\u001b[49m\u001b[43mtarget_path\u001b[49m\u001b[43m,\u001b[49m\u001b[43msheet_name\u001b[49m\u001b[43m \u001b[49m\u001b[38;5;241;43m=\u001b[39;49m\u001b[43m \u001b[49m\u001b[43mfile_name\u001b[49m\u001b[38;5;241;43m.\u001b[39;49m\u001b[43msplit\u001b[49m\u001b[43m(\u001b[49m\u001b[38;5;124;43m\"\u001b[39;49m\u001b[38;5;130;43;01m\\\\\u001b[39;49;00m\u001b[38;5;124;43m\"\u001b[39;49m\u001b[43m)\u001b[49m\u001b[43m[\u001b[49m\u001b[38;5;241;43m-\u001b[39;49m\u001b[38;5;241;43m1\u001b[39;49m\u001b[43m]\u001b[49m\u001b[43m[\u001b[49m\u001b[38;5;241;43m0\u001b[39;49m\u001b[43m]\u001b[49m\u001b[43m)\u001b[49m\n\u001b[0;32m     27\u001b[0m     \u001b[38;5;28;01mreturn\u001b[39;00m sheet\u001b[38;5;241m.\u001b[39miloc[\u001b[38;5;241m11\u001b[39m,\u001b[38;5;241m3\u001b[39m]\n",
      "File \u001b[1;32mf:\\Users\\Dell\\anaconda3\\envs\\py38\\lib\\site-packages\\pandas\\io\\excel\\_base.py:486\u001b[0m, in \u001b[0;36mread_excel\u001b[1;34m(io, sheet_name, header, names, index_col, usecols, dtype, engine, converters, true_values, false_values, skiprows, nrows, na_values, keep_default_na, na_filter, verbose, parse_dates, date_parser, date_format, thousands, decimal, comment, skipfooter, storage_options, dtype_backend)\u001b[0m\n\u001b[0;32m    480\u001b[0m     \u001b[38;5;28;01mraise\u001b[39;00m \u001b[38;5;167;01mValueError\u001b[39;00m(\n\u001b[0;32m    481\u001b[0m         \u001b[38;5;124m\"\u001b[39m\u001b[38;5;124mEngine should not be specified when passing \u001b[39m\u001b[38;5;124m\"\u001b[39m\n\u001b[0;32m    482\u001b[0m         \u001b[38;5;124m\"\u001b[39m\u001b[38;5;124man ExcelFile - ExcelFile already has the engine set\u001b[39m\u001b[38;5;124m\"\u001b[39m\n\u001b[0;32m    483\u001b[0m     )\n\u001b[0;32m    485\u001b[0m \u001b[38;5;28;01mtry\u001b[39;00m:\n\u001b[1;32m--> 486\u001b[0m     data \u001b[38;5;241m=\u001b[39m \u001b[43mio\u001b[49m\u001b[38;5;241;43m.\u001b[39;49m\u001b[43mparse\u001b[49m\u001b[43m(\u001b[49m\n\u001b[0;32m    487\u001b[0m \u001b[43m        \u001b[49m\u001b[43msheet_name\u001b[49m\u001b[38;5;241;43m=\u001b[39;49m\u001b[43msheet_name\u001b[49m\u001b[43m,\u001b[49m\n\u001b[0;32m    488\u001b[0m \u001b[43m        \u001b[49m\u001b[43mheader\u001b[49m\u001b[38;5;241;43m=\u001b[39;49m\u001b[43mheader\u001b[49m\u001b[43m,\u001b[49m\n\u001b[0;32m    489\u001b[0m \u001b[43m        \u001b[49m\u001b[43mnames\u001b[49m\u001b[38;5;241;43m=\u001b[39;49m\u001b[43mnames\u001b[49m\u001b[43m,\u001b[49m\n\u001b[0;32m    490\u001b[0m \u001b[43m        \u001b[49m\u001b[43mindex_col\u001b[49m\u001b[38;5;241;43m=\u001b[39;49m\u001b[43mindex_col\u001b[49m\u001b[43m,\u001b[49m\n\u001b[0;32m    491\u001b[0m \u001b[43m        \u001b[49m\u001b[43musecols\u001b[49m\u001b[38;5;241;43m=\u001b[39;49m\u001b[43musecols\u001b[49m\u001b[43m,\u001b[49m\n\u001b[0;32m    492\u001b[0m \u001b[43m        \u001b[49m\u001b[43mdtype\u001b[49m\u001b[38;5;241;43m=\u001b[39;49m\u001b[43mdtype\u001b[49m\u001b[43m,\u001b[49m\n\u001b[0;32m    493\u001b[0m \u001b[43m        \u001b[49m\u001b[43mconverters\u001b[49m\u001b[38;5;241;43m=\u001b[39;49m\u001b[43mconverters\u001b[49m\u001b[43m,\u001b[49m\n\u001b[0;32m    494\u001b[0m \u001b[43m        \u001b[49m\u001b[43mtrue_values\u001b[49m\u001b[38;5;241;43m=\u001b[39;49m\u001b[43mtrue_values\u001b[49m\u001b[43m,\u001b[49m\n\u001b[0;32m    495\u001b[0m \u001b[43m        \u001b[49m\u001b[43mfalse_values\u001b[49m\u001b[38;5;241;43m=\u001b[39;49m\u001b[43mfalse_values\u001b[49m\u001b[43m,\u001b[49m\n\u001b[0;32m    496\u001b[0m \u001b[43m        \u001b[49m\u001b[43mskiprows\u001b[49m\u001b[38;5;241;43m=\u001b[39;49m\u001b[43mskiprows\u001b[49m\u001b[43m,\u001b[49m\n\u001b[0;32m    497\u001b[0m \u001b[43m        \u001b[49m\u001b[43mnrows\u001b[49m\u001b[38;5;241;43m=\u001b[39;49m\u001b[43mnrows\u001b[49m\u001b[43m,\u001b[49m\n\u001b[0;32m    498\u001b[0m \u001b[43m        \u001b[49m\u001b[43mna_values\u001b[49m\u001b[38;5;241;43m=\u001b[39;49m\u001b[43mna_values\u001b[49m\u001b[43m,\u001b[49m\n\u001b[0;32m    499\u001b[0m \u001b[43m        \u001b[49m\u001b[43mkeep_default_na\u001b[49m\u001b[38;5;241;43m=\u001b[39;49m\u001b[43mkeep_default_na\u001b[49m\u001b[43m,\u001b[49m\n\u001b[0;32m    500\u001b[0m \u001b[43m        \u001b[49m\u001b[43mna_filter\u001b[49m\u001b[38;5;241;43m=\u001b[39;49m\u001b[43mna_filter\u001b[49m\u001b[43m,\u001b[49m\n\u001b[0;32m    501\u001b[0m \u001b[43m        \u001b[49m\u001b[43mverbose\u001b[49m\u001b[38;5;241;43m=\u001b[39;49m\u001b[43mverbose\u001b[49m\u001b[43m,\u001b[49m\n\u001b[0;32m    502\u001b[0m \u001b[43m        \u001b[49m\u001b[43mparse_dates\u001b[49m\u001b[38;5;241;43m=\u001b[39;49m\u001b[43mparse_dates\u001b[49m\u001b[43m,\u001b[49m\n\u001b[0;32m    503\u001b[0m \u001b[43m        \u001b[49m\u001b[43mdate_parser\u001b[49m\u001b[38;5;241;43m=\u001b[39;49m\u001b[43mdate_parser\u001b[49m\u001b[43m,\u001b[49m\n\u001b[0;32m    504\u001b[0m \u001b[43m        \u001b[49m\u001b[43mdate_format\u001b[49m\u001b[38;5;241;43m=\u001b[39;49m\u001b[43mdate_format\u001b[49m\u001b[43m,\u001b[49m\n\u001b[0;32m    505\u001b[0m \u001b[43m        \u001b[49m\u001b[43mthousands\u001b[49m\u001b[38;5;241;43m=\u001b[39;49m\u001b[43mthousands\u001b[49m\u001b[43m,\u001b[49m\n\u001b[0;32m    506\u001b[0m \u001b[43m        \u001b[49m\u001b[43mdecimal\u001b[49m\u001b[38;5;241;43m=\u001b[39;49m\u001b[43mdecimal\u001b[49m\u001b[43m,\u001b[49m\n\u001b[0;32m    507\u001b[0m \u001b[43m        \u001b[49m\u001b[43mcomment\u001b[49m\u001b[38;5;241;43m=\u001b[39;49m\u001b[43mcomment\u001b[49m\u001b[43m,\u001b[49m\n\u001b[0;32m    508\u001b[0m \u001b[43m        \u001b[49m\u001b[43mskipfooter\u001b[49m\u001b[38;5;241;43m=\u001b[39;49m\u001b[43mskipfooter\u001b[49m\u001b[43m,\u001b[49m\n\u001b[0;32m    509\u001b[0m \u001b[43m        \u001b[49m\u001b[43mdtype_backend\u001b[49m\u001b[38;5;241;43m=\u001b[39;49m\u001b[43mdtype_backend\u001b[49m\u001b[43m,\u001b[49m\n\u001b[0;32m    510\u001b[0m \u001b[43m    \u001b[49m\u001b[43m)\u001b[49m\n\u001b[0;32m    511\u001b[0m \u001b[38;5;28;01mfinally\u001b[39;00m:\n\u001b[0;32m    512\u001b[0m     \u001b[38;5;66;03m# make sure to close opened file handles\u001b[39;00m\n\u001b[0;32m    513\u001b[0m     \u001b[38;5;28;01mif\u001b[39;00m should_close:\n",
      "File \u001b[1;32mf:\\Users\\Dell\\anaconda3\\envs\\py38\\lib\\site-packages\\pandas\\io\\excel\\_base.py:1551\u001b[0m, in \u001b[0;36mExcelFile.parse\u001b[1;34m(self, sheet_name, header, names, index_col, usecols, converters, true_values, false_values, skiprows, nrows, na_values, parse_dates, date_parser, date_format, thousands, comment, skipfooter, dtype_backend, **kwds)\u001b[0m\n\u001b[0;32m   1518\u001b[0m \u001b[38;5;28;01mdef\u001b[39;00m \u001b[38;5;21mparse\u001b[39m(\n\u001b[0;32m   1519\u001b[0m     \u001b[38;5;28mself\u001b[39m,\n\u001b[0;32m   1520\u001b[0m     sheet_name: \u001b[38;5;28mstr\u001b[39m \u001b[38;5;241m|\u001b[39m \u001b[38;5;28mint\u001b[39m \u001b[38;5;241m|\u001b[39m \u001b[38;5;28mlist\u001b[39m[\u001b[38;5;28mint\u001b[39m] \u001b[38;5;241m|\u001b[39m \u001b[38;5;28mlist\u001b[39m[\u001b[38;5;28mstr\u001b[39m] \u001b[38;5;241m|\u001b[39m \u001b[38;5;28;01mNone\u001b[39;00m \u001b[38;5;241m=\u001b[39m \u001b[38;5;241m0\u001b[39m,\n\u001b[1;32m   (...)\u001b[0m\n\u001b[0;32m   1538\u001b[0m     \u001b[38;5;241m*\u001b[39m\u001b[38;5;241m*\u001b[39mkwds,\n\u001b[0;32m   1539\u001b[0m ) \u001b[38;5;241m-\u001b[39m\u001b[38;5;241m>\u001b[39m DataFrame \u001b[38;5;241m|\u001b[39m \u001b[38;5;28mdict\u001b[39m[\u001b[38;5;28mstr\u001b[39m, DataFrame] \u001b[38;5;241m|\u001b[39m \u001b[38;5;28mdict\u001b[39m[\u001b[38;5;28mint\u001b[39m, DataFrame]:\n\u001b[0;32m   1540\u001b[0m \u001b[38;5;250m    \u001b[39m\u001b[38;5;124;03m\"\"\"\u001b[39;00m\n\u001b[0;32m   1541\u001b[0m \u001b[38;5;124;03m    Parse specified sheet(s) into a DataFrame.\u001b[39;00m\n\u001b[0;32m   1542\u001b[0m \n\u001b[1;32m   (...)\u001b[0m\n\u001b[0;32m   1549\u001b[0m \u001b[38;5;124;03m        DataFrame from the passed in Excel file.\u001b[39;00m\n\u001b[0;32m   1550\u001b[0m \u001b[38;5;124;03m    \"\"\"\u001b[39;00m\n\u001b[1;32m-> 1551\u001b[0m     \u001b[38;5;28;01mreturn\u001b[39;00m \u001b[38;5;28;43mself\u001b[39;49m\u001b[38;5;241;43m.\u001b[39;49m\u001b[43m_reader\u001b[49m\u001b[38;5;241;43m.\u001b[39;49m\u001b[43mparse\u001b[49m\u001b[43m(\u001b[49m\n\u001b[0;32m   1552\u001b[0m \u001b[43m        \u001b[49m\u001b[43msheet_name\u001b[49m\u001b[38;5;241;43m=\u001b[39;49m\u001b[43msheet_name\u001b[49m\u001b[43m,\u001b[49m\n\u001b[0;32m   1553\u001b[0m \u001b[43m        \u001b[49m\u001b[43mheader\u001b[49m\u001b[38;5;241;43m=\u001b[39;49m\u001b[43mheader\u001b[49m\u001b[43m,\u001b[49m\n\u001b[0;32m   1554\u001b[0m \u001b[43m        \u001b[49m\u001b[43mnames\u001b[49m\u001b[38;5;241;43m=\u001b[39;49m\u001b[43mnames\u001b[49m\u001b[43m,\u001b[49m\n\u001b[0;32m   1555\u001b[0m \u001b[43m        \u001b[49m\u001b[43mindex_col\u001b[49m\u001b[38;5;241;43m=\u001b[39;49m\u001b[43mindex_col\u001b[49m\u001b[43m,\u001b[49m\n\u001b[0;32m   1556\u001b[0m \u001b[43m        \u001b[49m\u001b[43musecols\u001b[49m\u001b[38;5;241;43m=\u001b[39;49m\u001b[43musecols\u001b[49m\u001b[43m,\u001b[49m\n\u001b[0;32m   1557\u001b[0m \u001b[43m        \u001b[49m\u001b[43mconverters\u001b[49m\u001b[38;5;241;43m=\u001b[39;49m\u001b[43mconverters\u001b[49m\u001b[43m,\u001b[49m\n\u001b[0;32m   1558\u001b[0m \u001b[43m        \u001b[49m\u001b[43mtrue_values\u001b[49m\u001b[38;5;241;43m=\u001b[39;49m\u001b[43mtrue_values\u001b[49m\u001b[43m,\u001b[49m\n\u001b[0;32m   1559\u001b[0m \u001b[43m        \u001b[49m\u001b[43mfalse_values\u001b[49m\u001b[38;5;241;43m=\u001b[39;49m\u001b[43mfalse_values\u001b[49m\u001b[43m,\u001b[49m\n\u001b[0;32m   1560\u001b[0m \u001b[43m        \u001b[49m\u001b[43mskiprows\u001b[49m\u001b[38;5;241;43m=\u001b[39;49m\u001b[43mskiprows\u001b[49m\u001b[43m,\u001b[49m\n\u001b[0;32m   1561\u001b[0m \u001b[43m        \u001b[49m\u001b[43mnrows\u001b[49m\u001b[38;5;241;43m=\u001b[39;49m\u001b[43mnrows\u001b[49m\u001b[43m,\u001b[49m\n\u001b[0;32m   1562\u001b[0m \u001b[43m        \u001b[49m\u001b[43mna_values\u001b[49m\u001b[38;5;241;43m=\u001b[39;49m\u001b[43mna_values\u001b[49m\u001b[43m,\u001b[49m\n\u001b[0;32m   1563\u001b[0m \u001b[43m        \u001b[49m\u001b[43mparse_dates\u001b[49m\u001b[38;5;241;43m=\u001b[39;49m\u001b[43mparse_dates\u001b[49m\u001b[43m,\u001b[49m\n\u001b[0;32m   1564\u001b[0m \u001b[43m        \u001b[49m\u001b[43mdate_parser\u001b[49m\u001b[38;5;241;43m=\u001b[39;49m\u001b[43mdate_parser\u001b[49m\u001b[43m,\u001b[49m\n\u001b[0;32m   1565\u001b[0m \u001b[43m        \u001b[49m\u001b[43mdate_format\u001b[49m\u001b[38;5;241;43m=\u001b[39;49m\u001b[43mdate_format\u001b[49m\u001b[43m,\u001b[49m\n\u001b[0;32m   1566\u001b[0m \u001b[43m        \u001b[49m\u001b[43mthousands\u001b[49m\u001b[38;5;241;43m=\u001b[39;49m\u001b[43mthousands\u001b[49m\u001b[43m,\u001b[49m\n\u001b[0;32m   1567\u001b[0m \u001b[43m        \u001b[49m\u001b[43mcomment\u001b[49m\u001b[38;5;241;43m=\u001b[39;49m\u001b[43mcomment\u001b[49m\u001b[43m,\u001b[49m\n\u001b[0;32m   1568\u001b[0m \u001b[43m        \u001b[49m\u001b[43mskipfooter\u001b[49m\u001b[38;5;241;43m=\u001b[39;49m\u001b[43mskipfooter\u001b[49m\u001b[43m,\u001b[49m\n\u001b[0;32m   1569\u001b[0m \u001b[43m        \u001b[49m\u001b[43mdtype_backend\u001b[49m\u001b[38;5;241;43m=\u001b[39;49m\u001b[43mdtype_backend\u001b[49m\u001b[43m,\u001b[49m\n\u001b[0;32m   1570\u001b[0m \u001b[43m        \u001b[49m\u001b[38;5;241;43m*\u001b[39;49m\u001b[38;5;241;43m*\u001b[39;49m\u001b[43mkwds\u001b[49m\u001b[43m,\u001b[49m\n\u001b[0;32m   1571\u001b[0m \u001b[43m    \u001b[49m\u001b[43m)\u001b[49m\n",
      "File \u001b[1;32mf:\\Users\\Dell\\anaconda3\\envs\\py38\\lib\\site-packages\\pandas\\io\\excel\\_base.py:751\u001b[0m, in \u001b[0;36mBaseExcelReader.parse\u001b[1;34m(self, sheet_name, header, names, index_col, usecols, dtype, true_values, false_values, skiprows, nrows, na_values, verbose, parse_dates, date_parser, date_format, thousands, decimal, comment, skipfooter, dtype_backend, **kwds)\u001b[0m\n\u001b[0;32m    748\u001b[0m     sheet \u001b[38;5;241m=\u001b[39m \u001b[38;5;28mself\u001b[39m\u001b[38;5;241m.\u001b[39mget_sheet_by_index(asheetname)\n\u001b[0;32m    750\u001b[0m file_rows_needed \u001b[38;5;241m=\u001b[39m \u001b[38;5;28mself\u001b[39m\u001b[38;5;241m.\u001b[39m_calc_rows(header, index_col, skiprows, nrows)\n\u001b[1;32m--> 751\u001b[0m data \u001b[38;5;241m=\u001b[39m \u001b[38;5;28;43mself\u001b[39;49m\u001b[38;5;241;43m.\u001b[39;49m\u001b[43mget_sheet_data\u001b[49m\u001b[43m(\u001b[49m\u001b[43msheet\u001b[49m\u001b[43m,\u001b[49m\u001b[43m \u001b[49m\u001b[43mfile_rows_needed\u001b[49m\u001b[43m)\u001b[49m\n\u001b[0;32m    752\u001b[0m \u001b[38;5;28;01mif\u001b[39;00m \u001b[38;5;28mhasattr\u001b[39m(sheet, \u001b[38;5;124m\"\u001b[39m\u001b[38;5;124mclose\u001b[39m\u001b[38;5;124m\"\u001b[39m):\n\u001b[0;32m    753\u001b[0m     \u001b[38;5;66;03m# pyxlsb opens two TemporaryFiles\u001b[39;00m\n\u001b[0;32m    754\u001b[0m     sheet\u001b[38;5;241m.\u001b[39mclose()\n",
      "File \u001b[1;32mf:\\Users\\Dell\\anaconda3\\envs\\py38\\lib\\site-packages\\pandas\\io\\excel\\_openpyxl.py:602\u001b[0m, in \u001b[0;36mOpenpyxlReader.get_sheet_data\u001b[1;34m(self, sheet, file_rows_needed)\u001b[0m\n\u001b[0;32m    600\u001b[0m data: \u001b[38;5;28mlist\u001b[39m[\u001b[38;5;28mlist\u001b[39m[Scalar]] \u001b[38;5;241m=\u001b[39m []\n\u001b[0;32m    601\u001b[0m last_row_with_data \u001b[38;5;241m=\u001b[39m \u001b[38;5;241m-\u001b[39m\u001b[38;5;241m1\u001b[39m\n\u001b[1;32m--> 602\u001b[0m \u001b[38;5;28;01mfor\u001b[39;00m row_number, row \u001b[38;5;129;01min\u001b[39;00m \u001b[38;5;28menumerate\u001b[39m(sheet\u001b[38;5;241m.\u001b[39mrows):\n\u001b[0;32m    603\u001b[0m     converted_row \u001b[38;5;241m=\u001b[39m [\u001b[38;5;28mself\u001b[39m\u001b[38;5;241m.\u001b[39m_convert_cell(cell) \u001b[38;5;28;01mfor\u001b[39;00m cell \u001b[38;5;129;01min\u001b[39;00m row]\n\u001b[0;32m    604\u001b[0m     \u001b[38;5;28;01mwhile\u001b[39;00m converted_row \u001b[38;5;129;01mand\u001b[39;00m converted_row[\u001b[38;5;241m-\u001b[39m\u001b[38;5;241m1\u001b[39m] \u001b[38;5;241m==\u001b[39m \u001b[38;5;124m\"\u001b[39m\u001b[38;5;124m\"\u001b[39m:\n\u001b[0;32m    605\u001b[0m         \u001b[38;5;66;03m# trim trailing empty elements\u001b[39;00m\n",
      "File \u001b[1;32mf:\\Users\\Dell\\anaconda3\\envs\\py38\\lib\\site-packages\\openpyxl\\worksheet\\_read_only.py:90\u001b[0m, in \u001b[0;36mReadOnlyWorksheet._cells_by_row\u001b[1;34m(self, min_col, min_row, max_col, max_row, values_only)\u001b[0m\n\u001b[0;32m     88\u001b[0m \u001b[38;5;66;03m# return cells from a row\u001b[39;00m\n\u001b[0;32m     89\u001b[0m \u001b[38;5;28;01mif\u001b[39;00m counter \u001b[38;5;241m<\u001b[39m\u001b[38;5;241m=\u001b[39m idx:\n\u001b[1;32m---> 90\u001b[0m     row \u001b[38;5;241m=\u001b[39m \u001b[38;5;28;43mself\u001b[39;49m\u001b[38;5;241;43m.\u001b[39;49m\u001b[43m_get_row\u001b[49m\u001b[43m(\u001b[49m\u001b[43mrow\u001b[49m\u001b[43m,\u001b[49m\u001b[43m \u001b[49m\u001b[43mmin_col\u001b[49m\u001b[43m,\u001b[49m\u001b[43m \u001b[49m\u001b[43mmax_col\u001b[49m\u001b[43m,\u001b[49m\u001b[43m \u001b[49m\u001b[43mvalues_only\u001b[49m\u001b[43m)\u001b[49m\n\u001b[0;32m     91\u001b[0m     counter \u001b[38;5;241m+\u001b[39m\u001b[38;5;241m=\u001b[39m \u001b[38;5;241m1\u001b[39m\n\u001b[0;32m     92\u001b[0m     \u001b[38;5;28;01myield\u001b[39;00m row\n",
      "File \u001b[1;32mf:\\Users\\Dell\\anaconda3\\envs\\py38\\lib\\site-packages\\openpyxl\\worksheet\\_read_only.py:121\u001b[0m, in \u001b[0;36mReadOnlyWorksheet._get_row\u001b[1;34m(self, row, min_col, max_col, values_only)\u001b[0m\n\u001b[0;32m    119\u001b[0m         new_row[idx] \u001b[38;5;241m=\u001b[39m cell[\u001b[38;5;124m'\u001b[39m\u001b[38;5;124mvalue\u001b[39m\u001b[38;5;124m'\u001b[39m]\n\u001b[0;32m    120\u001b[0m         \u001b[38;5;28;01mif\u001b[39;00m \u001b[38;5;129;01mnot\u001b[39;00m values_only:\n\u001b[1;32m--> 121\u001b[0m             new_row[idx] \u001b[38;5;241m=\u001b[39m \u001b[43mReadOnlyCell\u001b[49m\u001b[43m(\u001b[49m\u001b[38;5;28;43mself\u001b[39;49m\u001b[43m,\u001b[49m\u001b[43m \u001b[49m\u001b[38;5;241;43m*\u001b[39;49m\u001b[38;5;241;43m*\u001b[39;49m\u001b[43mcell\u001b[49m\u001b[43m)\u001b[49m\n\u001b[0;32m    123\u001b[0m \u001b[38;5;28;01mreturn\u001b[39;00m \u001b[38;5;28mtuple\u001b[39m(new_row)\n",
      "File \u001b[1;32mf:\\Users\\Dell\\anaconda3\\envs\\py38\\lib\\site-packages\\openpyxl\\cell\\read_only.py:19\u001b[0m, in \u001b[0;36mReadOnlyCell.__init__\u001b[1;34m(self, sheet, row, column, value, data_type, style_id)\u001b[0m\n\u001b[0;32m     17\u001b[0m \u001b[38;5;28mself\u001b[39m\u001b[38;5;241m.\u001b[39mrow \u001b[38;5;241m=\u001b[39m row\n\u001b[0;32m     18\u001b[0m \u001b[38;5;28mself\u001b[39m\u001b[38;5;241m.\u001b[39mcolumn \u001b[38;5;241m=\u001b[39m column\n\u001b[1;32m---> 19\u001b[0m \u001b[38;5;28;43mself\u001b[39;49m\u001b[38;5;241;43m.\u001b[39;49m\u001b[43mdata_type\u001b[49m \u001b[38;5;241m=\u001b[39m data_type\n\u001b[0;32m     20\u001b[0m \u001b[38;5;28mself\u001b[39m\u001b[38;5;241m.\u001b[39mvalue \u001b[38;5;241m=\u001b[39m value\n\u001b[0;32m     21\u001b[0m \u001b[38;5;28mself\u001b[39m\u001b[38;5;241m.\u001b[39m_style_id \u001b[38;5;241m=\u001b[39m style_id\n",
      "\u001b[1;31mKeyboardInterrupt\u001b[0m: "
     ]
    }
   ],
   "source": [
    "wrong_label = label\n",
    "\n",
    "def merge_overlapping_pairs(pairs):\n",
    "    if not pairs:\n",
    "        return pairs\n",
    "\n",
    "    merged_pairs = [pairs[0]]\n",
    "    for current_start, current_end in pairs[1:]:\n",
    "        last_merged_start, last_merged_end = merged_pairs[-1]\n",
    "\n",
    "        if (current_start <= last_merged_end or current_start == last_merged_end+1):\n",
    "            merged_pairs[-1] = (last_merged_start, max(last_merged_end, current_end))\n",
    "        else:\n",
    "            merged_pairs.append((current_start, current_end))\n",
    "\n",
    "    return merged_pairs\n",
    "\n",
    "def sort_and_pair(x):\n",
    "    sorted_x = x.sort_values(by='data_pt_start')\n",
    "    unique_sorted_pairs = sorted(set(zip(sorted_x['data_pt_start'], sorted_x['data_pt_end'])),\n",
    "                                 key=lambda pair: pair[0])\n",
    "    return merge_overlapping_pairs(unique_sorted_pairs)\n",
    "\n",
    "def read_offset(file_name):\n",
    "    target_path = \"label/\"+file_name.split(\"\\\\\")[1]+\"/n_sensor_data.xlsx\"\n",
    "    sheet = pd.read_excel(target_path,sheet_name = file_name.split(\"\\\\\")[-1][0])\n",
    "    return sheet.iloc[11,3]\n",
    "\n",
    "\n",
    "grouped_data = wrong_label.groupby(['File', 'classifier']).apply(sort_and_pair).to_dict()\n",
    "\n",
    "sorted_data = sorted(grouped_data.items(), key=lambda item: len(item[1]), reverse=True)\n",
    "\n",
    "for file_name, data_points in sorted_data:\n",
    "    print(f\"File: {file_name}\")\n",
    "    print(len(data_points))\n",
    "    offset = read_offset(file_name)\n",
    "    for start, end in data_points:\n",
    "        print(f\"Start: {start-offset}, End: {end-offset}\")\n"
   ]
  },
  {
   "cell_type": "code",
   "execution_count": 5,
   "metadata": {},
   "outputs": [
    {
     "name": "stdout",
     "output_type": "stream",
     "text": [
      "./original\\7.27_dinner\\1_sensor_data.csv\n",
      "./original\\7.26_dinner\\1_sensor_data.csv\n",
      "./original\\7.31_dinner\\0_sensor_data.csv\n",
      "./original\\8.1_launch_1\\0_sensor_data.csv\n",
      "./original\\7.29_laun_2\\0_sensor_data.csv\n",
      "./original\\7.22_launch\\0_sensor_data.csv\n",
      "./original\\7.26_launch\\2_sensor_data.csv\n",
      "./original\\7.27_dinner\\0_sensor_data.csv\n",
      "./original\\8.3_breakfast\\0_sensor_data.csv\n",
      "./original\\7.22_launch\\1_sensor_data.csv\n",
      "./original\\7.23_breakfast\\2_sensor_data.csv\n",
      "./original\\7.24_dinner\\2_sensor_data.csv\n",
      "./original\\7.26_dinner\\0_sensor_data.csv\n",
      "./original\\7.26_dinner\\2_sensor_data.csv\n",
      "./original\\7.26_launch\\1_sensor_data.csv\n",
      "./original\\7.27_dinner\\2_sensor_data.csv\n",
      "./original\\7.27_launch\\0_sensor_data.csv\n",
      "./original\\7.27_launch\\1_sensor_data.csv\n",
      "./original\\8.1_launch_1\\1_sensor_data.csv\n",
      "./original\\8.3_breakfast\\1_sensor_data.csv\n",
      "./original\\7.22_launch\\3_sensor_data.csv\n",
      "./original\\7.25_breakfast\\0_sensor_data.csv\n",
      "./original\\7.26_launch\\0_sensor_data.csv\n",
      "./original\\7.29_breakfast_2\\0_sensor_data.csv\n",
      "./original\\8.1_launch_1\\2_sensor_data.csv\n",
      "./original\\8.1_launch_2\\0_sensor_data.csv\n",
      "./original\\7.21_breakfast\\2_sensor_data.csv\n",
      "./original\\7.23_breakfast\\1_sensor_data.csv\n",
      "./original\\7.31_dinner\\1_sensor_data.csv\n",
      "./original\\8.3_breakfast\\2_sensor_data.csv\n",
      "./original\\7.29_laun_2\\1_sensor_data.csv\n",
      "./original\\7.21_breakfast\\1_sensor_data.csv\n",
      "./original\\7.21_din\\0_sensor_data.csv\n",
      "./original\\7.22_launch\\2_sensor_data.csv\n",
      "./original\\7.24_dinner\\0_sensor_data.csv\n",
      "./original\\7.28_breakfast_2\\0_sensor_data.csv\n",
      "./original\\7.23_breakfast\\0_sensor_data.csv\n",
      "./original\\7.24_dinner\\3_sensor_data.csv\n",
      "./original\\7.25_breakfast\\1_sensor_data.csv\n",
      "./original\\7.29_laun_1\\0_sensor_data.csv\n"
     ]
    }
   ],
   "source": [
    "output_directory = 'wrong_label/'\n",
    "\n",
    "output_file = output_directory+\"number_of_error.csv\"\n",
    "with open(output_file, 'w') as f:\n",
    "    f.write('file, # of error\\n')  \n",
    "\n",
    "    for name, data in sorted_data:\n",
    "        f.write(name.split(\"\\\\\")[-2]+\"_\"+name.split(\"\\\\\")[-1]+f\",{len(data)}\\n\")\n",
    "        print(name)\n"
   ]
  },
  {
   "cell_type": "code",
   "execution_count": 6,
   "metadata": {},
   "outputs": [
    {
     "name": "stdout",
     "output_type": "stream",
     "text": [
      "Results for ./original\\7.27_dinner\\1_sensor_data.csv saved to wrong_label/7.27_dinner_1_sensor_data.csv\n",
      "Results for ./original\\7.26_dinner\\1_sensor_data.csv saved to wrong_label/7.26_dinner_1_sensor_data.csv\n",
      "Results for ./original\\7.31_dinner\\0_sensor_data.csv saved to wrong_label/7.31_dinner_0_sensor_data.csv\n",
      "Results for ./original\\8.1_launch_1\\0_sensor_data.csv saved to wrong_label/8.1_launch_1_0_sensor_data.csv\n",
      "Results for ./original\\7.29_laun_2\\0_sensor_data.csv saved to wrong_label/7.29_laun_2_0_sensor_data.csv\n",
      "Results for ./original\\7.22_launch\\0_sensor_data.csv saved to wrong_label/7.22_launch_0_sensor_data.csv\n",
      "Results for ./original\\7.26_launch\\2_sensor_data.csv saved to wrong_label/7.26_launch_2_sensor_data.csv\n",
      "Results for ./original\\7.27_dinner\\0_sensor_data.csv saved to wrong_label/7.27_dinner_0_sensor_data.csv\n",
      "Results for ./original\\8.3_breakfast\\0_sensor_data.csv saved to wrong_label/8.3_breakfast_0_sensor_data.csv\n",
      "Results for ./original\\7.22_launch\\1_sensor_data.csv saved to wrong_label/7.22_launch_1_sensor_data.csv\n",
      "Results for ./original\\7.23_breakfast\\2_sensor_data.csv saved to wrong_label/7.23_breakfast_2_sensor_data.csv\n",
      "Results for ./original\\7.24_dinner\\2_sensor_data.csv saved to wrong_label/7.24_dinner_2_sensor_data.csv\n",
      "Results for ./original\\7.26_dinner\\0_sensor_data.csv saved to wrong_label/7.26_dinner_0_sensor_data.csv\n",
      "Results for ./original\\7.26_dinner\\2_sensor_data.csv saved to wrong_label/7.26_dinner_2_sensor_data.csv\n",
      "Results for ./original\\7.26_launch\\1_sensor_data.csv saved to wrong_label/7.26_launch_1_sensor_data.csv\n",
      "Results for ./original\\7.27_dinner\\2_sensor_data.csv saved to wrong_label/7.27_dinner_2_sensor_data.csv\n",
      "Results for ./original\\7.27_launch\\0_sensor_data.csv saved to wrong_label/7.27_launch_0_sensor_data.csv\n",
      "Results for ./original\\7.27_launch\\1_sensor_data.csv saved to wrong_label/7.27_launch_1_sensor_data.csv\n",
      "Results for ./original\\8.1_launch_1\\1_sensor_data.csv saved to wrong_label/8.1_launch_1_1_sensor_data.csv\n",
      "Results for ./original\\8.3_breakfast\\1_sensor_data.csv saved to wrong_label/8.3_breakfast_1_sensor_data.csv\n",
      "Results for ./original\\7.22_launch\\3_sensor_data.csv saved to wrong_label/7.22_launch_3_sensor_data.csv\n",
      "Results for ./original\\7.25_breakfast\\0_sensor_data.csv saved to wrong_label/7.25_breakfast_0_sensor_data.csv\n",
      "Results for ./original\\7.26_launch\\0_sensor_data.csv saved to wrong_label/7.26_launch_0_sensor_data.csv\n",
      "Results for ./original\\7.29_breakfast_2\\0_sensor_data.csv saved to wrong_label/7.29_breakfast_2_0_sensor_data.csv\n",
      "Results for ./original\\8.1_launch_1\\2_sensor_data.csv saved to wrong_label/8.1_launch_1_2_sensor_data.csv\n",
      "Results for ./original\\8.1_launch_2\\0_sensor_data.csv saved to wrong_label/8.1_launch_2_0_sensor_data.csv\n",
      "Results for ./original\\7.21_breakfast\\2_sensor_data.csv saved to wrong_label/7.21_breakfast_2_sensor_data.csv\n",
      "Results for ./original\\7.23_breakfast\\1_sensor_data.csv saved to wrong_label/7.23_breakfast_1_sensor_data.csv\n",
      "Results for ./original\\7.31_dinner\\1_sensor_data.csv saved to wrong_label/7.31_dinner_1_sensor_data.csv\n",
      "Results for ./original\\8.3_breakfast\\2_sensor_data.csv saved to wrong_label/8.3_breakfast_2_sensor_data.csv\n",
      "Results for ./original\\7.29_laun_2\\1_sensor_data.csv saved to wrong_label/7.29_laun_2_1_sensor_data.csv\n",
      "Results for ./original\\7.21_breakfast\\1_sensor_data.csv saved to wrong_label/7.21_breakfast_1_sensor_data.csv\n",
      "Results for ./original\\7.21_din\\0_sensor_data.csv saved to wrong_label/7.21_din_0_sensor_data.csv\n",
      "Results for ./original\\7.22_launch\\2_sensor_data.csv saved to wrong_label/7.22_launch_2_sensor_data.csv\n",
      "Results for ./original\\7.24_dinner\\0_sensor_data.csv saved to wrong_label/7.24_dinner_0_sensor_data.csv\n",
      "Results for ./original\\7.28_breakfast_2\\0_sensor_data.csv saved to wrong_label/7.28_breakfast_2_0_sensor_data.csv\n",
      "Results for ./original\\7.23_breakfast\\0_sensor_data.csv saved to wrong_label/7.23_breakfast_0_sensor_data.csv\n",
      "Results for ./original\\7.24_dinner\\3_sensor_data.csv saved to wrong_label/7.24_dinner_3_sensor_data.csv\n",
      "Results for ./original\\7.25_breakfast\\1_sensor_data.csv saved to wrong_label/7.25_breakfast_1_sensor_data.csv\n",
      "Results for ./original\\7.29_laun_1\\0_sensor_data.csv saved to wrong_label/7.29_laun_1_0_sensor_data.csv\n"
     ]
    }
   ],
   "source": [
    "\n",
    "for file_name, data_points in sorted_data:\n",
    "    output_file = output_directory+file_name.split(\"\\\\\")[-2]+\"_\"+file_name.split(\"\\\\\")[-1]\n",
    "    offset = read_offset(file_name)\n",
    "    with open(output_file, 'w') as f:\n",
    "        f.write('Start,End\\n')  # Writing the header\n",
    "\n",
    "        # Write each data point pair to the file\n",
    "        for start, end in data_points:\n",
    "            f.write(f\"{start-offset},{end-offset}\\n\")\n",
    "\n",
    "    print(f\"Results for {file_name} saved to {output_file}\")\n"
   ]
  }
 ],
 "metadata": {
  "kernelspec": {
   "display_name": "mnn",
   "language": "python",
   "name": "python3"
  },
  "language_info": {
   "codemirror_mode": {
    "name": "ipython",
    "version": 3
   },
   "file_extension": ".py",
   "mimetype": "text/x-python",
   "name": "python",
   "nbconvert_exporter": "python",
   "pygments_lexer": "ipython3",
   "version": "3.8.18"
  }
 },
 "nbformat": 4,
 "nbformat_minor": 2
}
