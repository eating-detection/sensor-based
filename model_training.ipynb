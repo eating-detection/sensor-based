{
 "cells": [
  {
   "cell_type": "code",
   "execution_count": 1,
   "metadata": {},
   "outputs": [],
   "source": [
    "from tsfresh import extract_features\n",
    "import pandas as pd\n",
    "import numpy as np\n",
    "import os\n",
    "from sklearn.preprocessing import StandardScaler\n",
    "import matplotlib.pyplot as plt\n",
    "from scipy import signal\n",
    "import glob\n",
    "import antropy\n",
    "from xgboost import XGBClassifier\n",
    "from sklearn.model_selection import train_test_split\n",
    "from sklearn.metrics import accuracy_score\n",
    "from sklearn.model_selection import GridSearchCV\n",
    "from scipy.signal import butter, sosfilt, sosfreqz, detrend\n",
    "import math\n",
    "from scipy.signal import stft,find_peaks\n",
    "from scipy.stats import kurtosis,skew\n"
   ]
  },
  {
   "cell_type": "code",
   "execution_count": 4,
   "metadata": {},
   "outputs": [],
   "source": [
    "import tensorflow as tf\n",
    "from tensorflow.keras.models import Sequential\n",
    "from tensorflow.keras.layers import Dense\n",
    "from tensorflow.keras.layers import LSTM\n",
    "from tensorflow.keras.layers import Embedding\n",
    "from tensorflow.keras.preprocessing import sequence\n",
    "tf.random.set_seed(7)"
   ]
  },
  {
   "cell_type": "code",
   "execution_count": 6,
   "metadata": {},
   "outputs": [],
   "source": [
    "sensor_ts_df = pd.read_parquet(r'./sensor_ts_df_4.parquet')"
   ]
  },
  {
   "cell_type": "code",
   "execution_count": 15,
   "metadata": {},
   "outputs": [],
   "source": [
    "sensor_list = ['IMU_1_x','IMU_1_y','IMU_1_z','Prox','IMU_2_x','IMU_2_y','IMU_2_z']"
   ]
  },
  {
   "cell_type": "code",
   "execution_count": 8,
   "metadata": {},
   "outputs": [],
   "source": [
    "session_lst = sensor_ts_df['File'].unique()"
   ]
  },
  {
   "cell_type": "code",
   "execution_count": 13,
   "metadata": {},
   "outputs": [],
   "source": [
    "Train = sensor_ts_df.loc[sensor_ts_df['File'].isin(session_lst[:44])]\n",
    "Valid = sensor_ts_df.loc[sensor_ts_df['File'].isin(session_lst[44:56])]\n",
    "Test = sensor_ts_df.loc[sensor_ts_df['File'].isin(session_lst[56:72])]"
   ]
  },
  {
   "cell_type": "code",
   "execution_count": 76,
   "metadata": {},
   "outputs": [
    {
     "data": {
      "text/html": [
       "<div>\n",
       "<style scoped>\n",
       "    .dataframe tbody tr th:only-of-type {\n",
       "        vertical-align: middle;\n",
       "    }\n",
       "\n",
       "    .dataframe tbody tr th {\n",
       "        vertical-align: top;\n",
       "    }\n",
       "\n",
       "    .dataframe thead th {\n",
       "        text-align: right;\n",
       "    }\n",
       "</style>\n",
       "<table border=\"1\" class=\"dataframe\">\n",
       "  <thead>\n",
       "    <tr style=\"text-align: right;\">\n",
       "      <th></th>\n",
       "      <th>data_pt</th>\n",
       "      <th>label</th>\n",
       "      <th>label_chewing</th>\n",
       "      <th>label_eating</th>\n",
       "      <th>File</th>\n",
       "      <th>IMU_1_x</th>\n",
       "      <th>IMU_1_y</th>\n",
       "      <th>IMU_1_z</th>\n",
       "      <th>Prox</th>\n",
       "      <th>IMU_2_x</th>\n",
       "      <th>IMU_2_y</th>\n",
       "      <th>IMU_2_z</th>\n",
       "    </tr>\n",
       "  </thead>\n",
       "  <tbody>\n",
       "    <tr>\n",
       "      <th>651301</th>\n",
       "      <td>0.0</td>\n",
       "      <td>nan</td>\n",
       "      <td>0.0</td>\n",
       "      <td>0</td>\n",
       "      <td>D:\\Angela\\NUS\\eating_detection\\original_data\\7...</td>\n",
       "      <td>-0.069122</td>\n",
       "      <td>-0.039689</td>\n",
       "      <td>-0.167910</td>\n",
       "      <td>64.943283</td>\n",
       "      <td>0.029171</td>\n",
       "      <td>0.136023</td>\n",
       "      <td>0.105549</td>\n",
       "    </tr>\n",
       "    <tr>\n",
       "      <th>651302</th>\n",
       "      <td>1.0</td>\n",
       "      <td>nan</td>\n",
       "      <td>0.0</td>\n",
       "      <td>0</td>\n",
       "      <td>D:\\Angela\\NUS\\eating_detection\\original_data\\7...</td>\n",
       "      <td>-0.059116</td>\n",
       "      <td>-0.039686</td>\n",
       "      <td>-0.167909</td>\n",
       "      <td>63.955211</td>\n",
       "      <td>0.029166</td>\n",
       "      <td>0.126019</td>\n",
       "      <td>0.105551</td>\n",
       "    </tr>\n",
       "    <tr>\n",
       "      <th>651303</th>\n",
       "      <td>2.0</td>\n",
       "      <td>nan</td>\n",
       "      <td>0.0</td>\n",
       "      <td>0</td>\n",
       "      <td>D:\\Angela\\NUS\\eating_detection\\original_data\\7...</td>\n",
       "      <td>-0.059111</td>\n",
       "      <td>-0.039683</td>\n",
       "      <td>-0.167908</td>\n",
       "      <td>63.967138</td>\n",
       "      <td>0.029161</td>\n",
       "      <td>0.136016</td>\n",
       "      <td>0.115553</td>\n",
       "    </tr>\n",
       "    <tr>\n",
       "      <th>651304</th>\n",
       "      <td>3.0</td>\n",
       "      <td>nan</td>\n",
       "      <td>0.0</td>\n",
       "      <td>0</td>\n",
       "      <td>D:\\Angela\\NUS\\eating_detection\\original_data\\7...</td>\n",
       "      <td>-0.059105</td>\n",
       "      <td>-0.039681</td>\n",
       "      <td>-0.177907</td>\n",
       "      <td>66.979065</td>\n",
       "      <td>0.039156</td>\n",
       "      <td>0.126012</td>\n",
       "      <td>0.105554</td>\n",
       "    </tr>\n",
       "    <tr>\n",
       "      <th>651305</th>\n",
       "      <td>4.0</td>\n",
       "      <td>nan</td>\n",
       "      <td>0.0</td>\n",
       "      <td>0</td>\n",
       "      <td>D:\\Angela\\NUS\\eating_detection\\original_data\\7...</td>\n",
       "      <td>-0.059099</td>\n",
       "      <td>-0.039678</td>\n",
       "      <td>-0.167907</td>\n",
       "      <td>66.990993</td>\n",
       "      <td>0.029151</td>\n",
       "      <td>0.116008</td>\n",
       "      <td>0.105556</td>\n",
       "    </tr>\n",
       "    <tr>\n",
       "      <th>...</th>\n",
       "      <td>...</td>\n",
       "      <td>...</td>\n",
       "      <td>...</td>\n",
       "      <td>...</td>\n",
       "      <td>...</td>\n",
       "      <td>...</td>\n",
       "      <td>...</td>\n",
       "      <td>...</td>\n",
       "      <td>...</td>\n",
       "      <td>...</td>\n",
       "      <td>...</td>\n",
       "      <td>...</td>\n",
       "    </tr>\n",
       "    <tr>\n",
       "      <th>872474</th>\n",
       "      <td>17677.0</td>\n",
       "      <td>nan</td>\n",
       "      <td>0.0</td>\n",
       "      <td>0</td>\n",
       "      <td>D:\\Angela\\NUS\\eating_detection\\original_data\\8...</td>\n",
       "      <td>0.180399</td>\n",
       "      <td>0.053016</td>\n",
       "      <td>-0.352636</td>\n",
       "      <td>-59.697768</td>\n",
       "      <td>-0.123579</td>\n",
       "      <td>0.186809</td>\n",
       "      <td>0.289911</td>\n",
       "    </tr>\n",
       "    <tr>\n",
       "      <th>872475</th>\n",
       "      <td>17678.0</td>\n",
       "      <td>nan</td>\n",
       "      <td>0.0</td>\n",
       "      <td>0</td>\n",
       "      <td>D:\\Angela\\NUS\\eating_detection\\original_data\\8...</td>\n",
       "      <td>0.190395</td>\n",
       "      <td>0.043015</td>\n",
       "      <td>-0.352641</td>\n",
       "      <td>-100.683649</td>\n",
       "      <td>-0.123577</td>\n",
       "      <td>0.176812</td>\n",
       "      <td>0.289913</td>\n",
       "    </tr>\n",
       "    <tr>\n",
       "      <th>872476</th>\n",
       "      <td>17679.0</td>\n",
       "      <td>nan</td>\n",
       "      <td>0.0</td>\n",
       "      <td>0</td>\n",
       "      <td>D:\\Angela\\NUS\\eating_detection\\original_data\\8...</td>\n",
       "      <td>0.190390</td>\n",
       "      <td>0.033015</td>\n",
       "      <td>-0.342645</td>\n",
       "      <td>-129.669530</td>\n",
       "      <td>-0.143576</td>\n",
       "      <td>0.166815</td>\n",
       "      <td>0.309915</td>\n",
       "    </tr>\n",
       "    <tr>\n",
       "      <th>872477</th>\n",
       "      <td>17680.0</td>\n",
       "      <td>nan</td>\n",
       "      <td>0.0</td>\n",
       "      <td>0</td>\n",
       "      <td>D:\\Angela\\NUS\\eating_detection\\original_data\\8...</td>\n",
       "      <td>0.210386</td>\n",
       "      <td>0.033014</td>\n",
       "      <td>-0.332650</td>\n",
       "      <td>-154.655411</td>\n",
       "      <td>-0.133574</td>\n",
       "      <td>0.146818</td>\n",
       "      <td>0.319917</td>\n",
       "    </tr>\n",
       "    <tr>\n",
       "      <th>872478</th>\n",
       "      <td>17681.0</td>\n",
       "      <td>nan</td>\n",
       "      <td>0.0</td>\n",
       "      <td>0</td>\n",
       "      <td>D:\\Angela\\NUS\\eating_detection\\original_data\\8...</td>\n",
       "      <td>0.220381</td>\n",
       "      <td>0.003013</td>\n",
       "      <td>-0.322655</td>\n",
       "      <td>-160.641291</td>\n",
       "      <td>-0.083572</td>\n",
       "      <td>0.146821</td>\n",
       "      <td>0.309920</td>\n",
       "    </tr>\n",
       "  </tbody>\n",
       "</table>\n",
       "<p>221178 rows × 12 columns</p>\n",
       "</div>"
      ],
      "text/plain": [
       "        data_pt label  label_chewing  label_eating  \\\n",
       "651301      0.0   nan            0.0             0   \n",
       "651302      1.0   nan            0.0             0   \n",
       "651303      2.0   nan            0.0             0   \n",
       "651304      3.0   nan            0.0             0   \n",
       "651305      4.0   nan            0.0             0   \n",
       "...         ...   ...            ...           ...   \n",
       "872474  17677.0   nan            0.0             0   \n",
       "872475  17678.0   nan            0.0             0   \n",
       "872476  17679.0   nan            0.0             0   \n",
       "872477  17680.0   nan            0.0             0   \n",
       "872478  17681.0   nan            0.0             0   \n",
       "\n",
       "                                                     File   IMU_1_x   IMU_1_y  \\\n",
       "651301  D:\\Angela\\NUS\\eating_detection\\original_data\\7... -0.069122 -0.039689   \n",
       "651302  D:\\Angela\\NUS\\eating_detection\\original_data\\7... -0.059116 -0.039686   \n",
       "651303  D:\\Angela\\NUS\\eating_detection\\original_data\\7... -0.059111 -0.039683   \n",
       "651304  D:\\Angela\\NUS\\eating_detection\\original_data\\7... -0.059105 -0.039681   \n",
       "651305  D:\\Angela\\NUS\\eating_detection\\original_data\\7... -0.059099 -0.039678   \n",
       "...                                                   ...       ...       ...   \n",
       "872474  D:\\Angela\\NUS\\eating_detection\\original_data\\8...  0.180399  0.053016   \n",
       "872475  D:\\Angela\\NUS\\eating_detection\\original_data\\8...  0.190395  0.043015   \n",
       "872476  D:\\Angela\\NUS\\eating_detection\\original_data\\8...  0.190390  0.033015   \n",
       "872477  D:\\Angela\\NUS\\eating_detection\\original_data\\8...  0.210386  0.033014   \n",
       "872478  D:\\Angela\\NUS\\eating_detection\\original_data\\8...  0.220381  0.003013   \n",
       "\n",
       "         IMU_1_z        Prox   IMU_2_x   IMU_2_y   IMU_2_z  \n",
       "651301 -0.167910   64.943283  0.029171  0.136023  0.105549  \n",
       "651302 -0.167909   63.955211  0.029166  0.126019  0.105551  \n",
       "651303 -0.167908   63.967138  0.029161  0.136016  0.115553  \n",
       "651304 -0.177907   66.979065  0.039156  0.126012  0.105554  \n",
       "651305 -0.167907   66.990993  0.029151  0.116008  0.105556  \n",
       "...          ...         ...       ...       ...       ...  \n",
       "872474 -0.352636  -59.697768 -0.123579  0.186809  0.289911  \n",
       "872475 -0.352641 -100.683649 -0.123577  0.176812  0.289913  \n",
       "872476 -0.342645 -129.669530 -0.143576  0.166815  0.309915  \n",
       "872477 -0.332650 -154.655411 -0.133574  0.146818  0.319917  \n",
       "872478 -0.322655 -160.641291 -0.083572  0.146821  0.309920  \n",
       "\n",
       "[221178 rows x 12 columns]"
      ]
     },
     "execution_count": 76,
     "metadata": {},
     "output_type": "execute_result"
    }
   ],
   "source": [
    "Valid"
   ]
  },
  {
   "cell_type": "code",
   "execution_count": 77,
   "metadata": {},
   "outputs": [
    {
     "name": "stdout",
     "output_type": "stream",
     "text": [
      "(651301, 12)\n",
      "(221178, 12)\n",
      "(203861, 12)\n"
     ]
    }
   ],
   "source": [
    "print(Train.shape)\n",
    "print(Valid.shape)\n",
    "print(Test.shape)"
   ]
  },
  {
   "cell_type": "code",
   "execution_count": 78,
   "metadata": {},
   "outputs": [
    {
     "data": {
      "text/html": [
       "<style>#sk-container-id-3 {color: black;}#sk-container-id-3 pre{padding: 0;}#sk-container-id-3 div.sk-toggleable {background-color: white;}#sk-container-id-3 label.sk-toggleable__label {cursor: pointer;display: block;width: 100%;margin-bottom: 0;padding: 0.3em;box-sizing: border-box;text-align: center;}#sk-container-id-3 label.sk-toggleable__label-arrow:before {content: \"▸\";float: left;margin-right: 0.25em;color: #696969;}#sk-container-id-3 label.sk-toggleable__label-arrow:hover:before {color: black;}#sk-container-id-3 div.sk-estimator:hover label.sk-toggleable__label-arrow:before {color: black;}#sk-container-id-3 div.sk-toggleable__content {max-height: 0;max-width: 0;overflow: hidden;text-align: left;background-color: #f0f8ff;}#sk-container-id-3 div.sk-toggleable__content pre {margin: 0.2em;color: black;border-radius: 0.25em;background-color: #f0f8ff;}#sk-container-id-3 input.sk-toggleable__control:checked~div.sk-toggleable__content {max-height: 200px;max-width: 100%;overflow: auto;}#sk-container-id-3 input.sk-toggleable__control:checked~label.sk-toggleable__label-arrow:before {content: \"▾\";}#sk-container-id-3 div.sk-estimator input.sk-toggleable__control:checked~label.sk-toggleable__label {background-color: #d4ebff;}#sk-container-id-3 div.sk-label input.sk-toggleable__control:checked~label.sk-toggleable__label {background-color: #d4ebff;}#sk-container-id-3 input.sk-hidden--visually {border: 0;clip: rect(1px 1px 1px 1px);clip: rect(1px, 1px, 1px, 1px);height: 1px;margin: -1px;overflow: hidden;padding: 0;position: absolute;width: 1px;}#sk-container-id-3 div.sk-estimator {font-family: monospace;background-color: #f0f8ff;border: 1px dotted black;border-radius: 0.25em;box-sizing: border-box;margin-bottom: 0.5em;}#sk-container-id-3 div.sk-estimator:hover {background-color: #d4ebff;}#sk-container-id-3 div.sk-parallel-item::after {content: \"\";width: 100%;border-bottom: 1px solid gray;flex-grow: 1;}#sk-container-id-3 div.sk-label:hover label.sk-toggleable__label {background-color: #d4ebff;}#sk-container-id-3 div.sk-serial::before {content: \"\";position: absolute;border-left: 1px solid gray;box-sizing: border-box;top: 0;bottom: 0;left: 50%;z-index: 0;}#sk-container-id-3 div.sk-serial {display: flex;flex-direction: column;align-items: center;background-color: white;padding-right: 0.2em;padding-left: 0.2em;position: relative;}#sk-container-id-3 div.sk-item {position: relative;z-index: 1;}#sk-container-id-3 div.sk-parallel {display: flex;align-items: stretch;justify-content: center;background-color: white;position: relative;}#sk-container-id-3 div.sk-item::before, #sk-container-id-3 div.sk-parallel-item::before {content: \"\";position: absolute;border-left: 1px solid gray;box-sizing: border-box;top: 0;bottom: 0;left: 50%;z-index: -1;}#sk-container-id-3 div.sk-parallel-item {display: flex;flex-direction: column;z-index: 1;position: relative;background-color: white;}#sk-container-id-3 div.sk-parallel-item:first-child::after {align-self: flex-end;width: 50%;}#sk-container-id-3 div.sk-parallel-item:last-child::after {align-self: flex-start;width: 50%;}#sk-container-id-3 div.sk-parallel-item:only-child::after {width: 0;}#sk-container-id-3 div.sk-dashed-wrapped {border: 1px dashed gray;margin: 0 0.4em 0.5em 0.4em;box-sizing: border-box;padding-bottom: 0.4em;background-color: white;}#sk-container-id-3 div.sk-label label {font-family: monospace;font-weight: bold;display: inline-block;line-height: 1.2em;}#sk-container-id-3 div.sk-label-container {text-align: center;}#sk-container-id-3 div.sk-container {/* jupyter's `normalize.less` sets `[hidden] { display: none; }` but bootstrap.min.css set `[hidden] { display: none !important; }` so we also need the `!important` here to be able to override the default hidden behavior on the sphinx rendered scikit-learn.org. See: https://github.com/scikit-learn/scikit-learn/issues/21755 */display: inline-block !important;position: relative;}#sk-container-id-3 div.sk-text-repr-fallback {display: none;}</style><div id=\"sk-container-id-3\" class=\"sk-top-container\"><div class=\"sk-text-repr-fallback\"><pre>StandardScaler()</pre><b>In a Jupyter environment, please rerun this cell to show the HTML representation or trust the notebook. <br />On GitHub, the HTML representation is unable to render, please try loading this page with nbviewer.org.</b></div><div class=\"sk-container\" hidden><div class=\"sk-item\"><div class=\"sk-estimator sk-toggleable\"><input class=\"sk-toggleable__control sk-hidden--visually\" id=\"sk-estimator-id-3\" type=\"checkbox\" checked><label for=\"sk-estimator-id-3\" class=\"sk-toggleable__label sk-toggleable__label-arrow\">StandardScaler</label><div class=\"sk-toggleable__content\"><pre>StandardScaler()</pre></div></div></div></div></div>"
      ],
      "text/plain": [
       "StandardScaler()"
      ]
     },
     "execution_count": 78,
     "metadata": {},
     "output_type": "execute_result"
    }
   ],
   "source": [
    "scaler = StandardScaler()\n",
    "scaler.fit(pd.concat([Train,Valid])[sensor_list])"
   ]
  },
  {
   "cell_type": "code",
   "execution_count": 79,
   "metadata": {},
   "outputs": [],
   "source": [
    "X_Train_norm = scaler.transform(Train[sensor_list])\n",
    "X_Valid_norm = scaler.transform(Valid[sensor_list])\n",
    "X_test_norm = scaler.transform(Test[sensor_list])"
   ]
  },
  {
   "cell_type": "code",
   "execution_count": 90,
   "metadata": {},
   "outputs": [],
   "source": [
    "X_train_df = pd.DataFrame(X_Train_norm)\n",
    "X_train_df.columns = sensor_list\n",
    "X_train_df = pd.concat([Train[['data_pt','label_chewing','label_eating']],X_train_df],axis = 1)"
   ]
  },
  {
   "cell_type": "code",
   "execution_count": 94,
   "metadata": {},
   "outputs": [],
   "source": [
    "X_valid_df = pd.DataFrame(X_Valid_norm)\n",
    "X_valid_df.columns = sensor_list\n",
    "X_valid_df = pd.concat([Valid[['data_pt','label_chewing','label_eating']].reset_index(drop = True),X_valid_df.reset_index(drop = True)],axis = 1)"
   ]
  },
  {
   "cell_type": "code",
   "execution_count": 95,
   "metadata": {},
   "outputs": [],
   "source": [
    "X_test_df = pd.DataFrame(X_test_norm)\n",
    "X_test_df.columns = sensor_list\n",
    "X_test_df = pd.concat([Test[['data_pt','label_chewing','label_eating']].reset_index(drop = True),X_test_df.reset_index(drop = True)],axis = 1)"
   ]
  },
  {
   "cell_type": "code",
   "execution_count": 97,
   "metadata": {},
   "outputs": [],
   "source": [
    "def create_LSTM_input(data,window_size,window_step):\n",
    "    window_size = window_size\n",
    "    window_step = window_step\n",
    "    start = 0\n",
    "    end = len(data) - 1\n",
    "    features,chewing_detection,chewing_count = [],[],[]\n",
    "    for win_start in range(start,end,window_step):\n",
    "        win_end = win_start + window_size\n",
    "        if win_end >= end:\n",
    "            break\n",
    "        frame = data.iloc[win_start:win_end]\n",
    "        if frame.iloc[-1]['data_pt'] < frame.iloc[0]['data_pt']:\n",
    "            continue\n",
    "        features.append(frame[sensor_list].values)\n",
    "        if frame['label_eating'].mean() > 0.5:\n",
    "            chewing_detection.append(1)\n",
    "            chewing_count.append(frame['label_chewing'].sum())\n",
    "        else:\n",
    "            chewing_detection.append(0)\n",
    "            chewing_count.append(0)\n",
    "    return np.array(features),np.array(chewing_detection).reshape(-1,1),np.array(chewing_count).reshape(-1,1)"
   ]
  },
  {
   "cell_type": "code",
   "execution_count": 98,
   "metadata": {},
   "outputs": [],
   "source": [
    "X_train,detect_train,count_train = create_LSTM_input(X_train_df,120,60)"
   ]
  },
  {
   "cell_type": "code",
   "execution_count": 48,
   "metadata": {},
   "outputs": [
    {
     "data": {
      "text/plain": [
       "(10767, 120, 7)"
      ]
     },
     "execution_count": 48,
     "metadata": {},
     "output_type": "execute_result"
    }
   ],
   "source": [
    "X_train.shape"
   ]
  },
  {
   "cell_type": "code",
   "execution_count": 99,
   "metadata": {},
   "outputs": [],
   "source": [
    "X_valid,detect_valid,count_valid = create_LSTM_input(X_valid_df,120,60)"
   ]
  },
  {
   "cell_type": "code",
   "execution_count": 101,
   "metadata": {},
   "outputs": [],
   "source": [
    "X_test,detect_test,count_test = create_LSTM_input(X_test_df,120,60)"
   ]
  },
  {
   "cell_type": "code",
   "execution_count": 103,
   "metadata": {},
   "outputs": [
    {
     "name": "stdout",
     "output_type": "stream",
     "text": [
      "Train:(10767, 120, 7),Valid:(3664, 120, 7),Test:(3366, 120, 7)\n"
     ]
    }
   ],
   "source": [
    "print(f'Train:{X_train.shape},Valid:{X_valid.shape},Test:{X_test.shape}')"
   ]
  },
  {
   "cell_type": "code",
   "execution_count": 52,
   "metadata": {},
   "outputs": [],
   "source": [
    "from keras.models import Sequential\n",
    "from keras.layers import Dense, LSTM, BatchNormalization\n",
    "from keras.optimizers import Adam\n",
    "from keras.callbacks import ReduceLROnPlateau, EarlyStopping\n",
    "from keras.regularizers import l2\n",
    "from time import time"
   ]
  },
  {
   "cell_type": "code",
   "execution_count": 109,
   "metadata": {},
   "outputs": [],
   "source": [
    "from hyperopt import STATUS_OK, Trials, fmin, hp, tpe\n",
    "from sklearn.metrics import f1_score"
   ]
  },
  {
   "cell_type": "code",
   "execution_count": 116,
   "metadata": {},
   "outputs": [],
   "source": [
    "LAYERS = [32, 16, 8, 1]              \n",
    "M_TRAIN = X_train.shape[0]           \n",
    "M_TEST = X_test.shape[0]             \n",
    "N = X_train.shape[2]                \n",
    "BATCH = M_TRAIN                          \n",
    "EPOCH = 50                          \n",
    "LR = 5e-2                        \n",
    "LAMBD = 3e-2                         \n",
    "DP = 0.5                            \n",
    "RDP = 0.5                           \n",
    "T = 120"
   ]
  },
  {
   "cell_type": "code",
   "execution_count": 117,
   "metadata": {},
   "outputs": [
    {
     "name": "stderr",
     "output_type": "stream",
     "text": [
      "WARNING:absl:`lr` is deprecated in Keras optimizer, please use `learning_rate` or use the legacy optimizer, e.g.,tf.keras.optimizers.legacy.Adam.\n"
     ]
    },
    {
     "name": "stdout",
     "output_type": "stream",
     "text": [
      "Model: \"sequential_5\"\n",
      "_________________________________________________________________\n",
      " Layer (type)                Output Shape              Param #   \n",
      "=================================================================\n",
      " lstm_12 (LSTM)              (None, 120, 32)           5120      \n",
      "                                                                 \n",
      " batch_normalization_12 (Ba  (None, 120, 32)           128       \n",
      " tchNormalization)                                               \n",
      "                                                                 \n",
      " lstm_13 (LSTM)              (None, 120, 16)           3136      \n",
      "                                                                 \n",
      " batch_normalization_13 (Ba  (None, 120, 16)           64        \n",
      " tchNormalization)                                               \n",
      "                                                                 \n",
      " lstm_14 (LSTM)              (None, 8)                 800       \n",
      "                                                                 \n",
      " batch_normalization_14 (Ba  (None, 8)                 32        \n",
      " tchNormalization)                                               \n",
      "                                                                 \n",
      " dense_4 (Dense)             (None, 1)                 9         \n",
      "                                                                 \n",
      "=================================================================\n",
      "Total params: 9289 (36.29 KB)\n",
      "Trainable params: 9177 (35.85 KB)\n",
      "Non-trainable params: 112 (448.00 Byte)\n",
      "_________________________________________________________________\n",
      "None\n"
     ]
    }
   ],
   "source": [
    "model = Sequential()\n",
    "model.add(LSTM(input_shape=(T, N), units=LAYERS[0],\n",
    "               activation='tanh', recurrent_activation='hard_sigmoid',\n",
    "               kernel_regularizer=l2(LAMBD), recurrent_regularizer=l2(LAMBD),\n",
    "               dropout=DP, recurrent_dropout=RDP,\n",
    "               return_sequences=True, return_state=False,\n",
    "               stateful=False, unroll=False\n",
    "              ))\n",
    "model.add(BatchNormalization())\n",
    "model.add(LSTM(units=LAYERS[1],\n",
    "               activation='tanh', recurrent_activation='hard_sigmoid',\n",
    "               kernel_regularizer=l2(LAMBD), recurrent_regularizer=l2(LAMBD),\n",
    "               dropout=DP, recurrent_dropout=RDP,\n",
    "               return_sequences=True, return_state=False,\n",
    "               stateful=False, unroll=False\n",
    "              ))\n",
    "model.add(BatchNormalization())\n",
    "model.add(LSTM(units=LAYERS[2],\n",
    "               activation='tanh', recurrent_activation='hard_sigmoid',\n",
    "               kernel_regularizer=l2(LAMBD), recurrent_regularizer=l2(LAMBD),\n",
    "               dropout=DP, recurrent_dropout=RDP,\n",
    "               return_sequences=False, return_state=False,\n",
    "               stateful=False, unroll=False\n",
    "              ))\n",
    "model.add(BatchNormalization())\n",
    "model.add(Dense(units=LAYERS[3], activation='sigmoid'))\n",
    "\n",
    "# Compile the model with Adam optimizer\n",
    "model.compile(loss='binary_crossentropy',\n",
    "              metrics=['accuracy'],\n",
    "              optimizer=Adam(lr=LR))\n",
    "print(model.summary())\n"
   ]
  },
  {
   "cell_type": "code",
   "execution_count": 118,
   "metadata": {},
   "outputs": [
    {
     "name": "stdout",
     "output_type": "stream",
     "text": [
      "Restoring model weights from the end of the best epoch: 13.\n",
      "Epoch 43: early stopping\n",
      "-----------------------------------------------------------------\n",
      "Training was completed in 296.68 secs\n",
      "-----------------------------------------------------------------\n",
      "-----------------------------------------------------------------\n",
      "train accuracy = 53.794%\n",
      "test accuracy = 48.0895%\n",
      "test error = 1747 out of 3366 examples\n"
     ]
    },
    {
     "data": {
      "image/png": "[encoded data removed]",
      "text/plain": [
       "<Figure size 1800x600 with 2 Axes>"
      ]
     },
     "metadata": {},
     "output_type": "display_data"
    }
   ],
   "source": [
    "lr_decay = ReduceLROnPlateau(monitor='loss', \n",
    "                             patience=1, verbose=0, \n",
    "                             factor=0.5, min_lr=1e-8)\n",
    "# Define Early Stopping:\n",
    "early_stop = EarlyStopping(monitor='val_accuracy', min_delta=0, \n",
    "                           patience=30, verbose=1, mode='auto',\n",
    "                           baseline=0, restore_best_weights=True)\n",
    "# Train the model. \n",
    "# The dataset is small for NN - let's use test_data for validation\n",
    "start = time()\n",
    "History = model.fit(X_train, detect_train,\n",
    "                    epochs=EPOCH,\n",
    "                    batch_size=BATCH,\n",
    "                    validation_data=(X_valid, detect_valid),\n",
    "                    shuffle=True,verbose=0,\n",
    "                    callbacks=[lr_decay, early_stop])\n",
    "print('-'*65)\n",
    "print(f'Training was completed in {time() - start:.2f} secs')\n",
    "print('-'*65)\n",
    "# Evaluate the model:\n",
    "train_loss, train_acc = model.evaluate(X_train, detect_train,\n",
    "                                       batch_size=M_TRAIN, verbose=0)\n",
    "test_loss, test_acc = model.evaluate(X_valid, detect_valid,\n",
    "                                     batch_size=M_TEST, verbose=0)\n",
    "print('-'*65)\n",
    "print(f'train accuracy = {round(train_acc * 100, 4)}%')\n",
    "print(f'test accuracy = {round(test_acc * 100, 4)}%')\n",
    "print(f'test error = {round((1 - test_acc) * M_TEST)} out of {M_TEST} examples')\n",
    "\n",
    "# Plot the loss and accuracy curves over epochs:\n",
    "fig, axs = plt.subplots(nrows=1, ncols=2, figsize=(18,6))\n",
    "axs[0].plot(History.history['loss'], color='b', label='Training loss')\n",
    "axs[0].plot(History.history['val_loss'], color='r', label='Validation loss')\n",
    "axs[0].set_title(\"Loss curves\")\n",
    "axs[0].legend(loc='best', shadow=True)\n",
    "axs[1].plot(History.history['accuracy'], color='b', label='Training accuracy')\n",
    "axs[1].plot(History.history['val_accuracy'], color='r', label='Validation accuracy')\n",
    "axs[1].set_title(\"Accuracy curves\")\n",
    "axs[1].legend(loc='best', shadow=True)\n",
    "plt.show()"
   ]
  },
  {
   "cell_type": "code",
   "execution_count": 107,
   "metadata": {},
   "outputs": [
    {
     "name": "stdout",
     "output_type": "stream",
     "text": [
      "1/1 [==============================] - 1s 591ms/step\n",
      "Prediction accuracy = 2.6737967914438503%\n"
     ]
    }
   ],
   "source": [
    "y_pred = model.predict(X_test, batch_size=M_TEST, verbose=1)\n",
    "score = (y_pred > 0.5).sum() / len(detect_test)\n",
    "print(f'Prediction accuracy = {score*100}%')"
   ]
  },
  {
   "cell_type": "code",
   "execution_count": null,
   "metadata": {},
   "outputs": [],
   "source": []
  }
 ],
 "metadata": {
  "kernelspec": {
   "display_name": "mnn",
   "language": "python",
   "name": "python3"
  },
  "language_info": {
   "codemirror_mode": {
    "name": "ipython",
    "version": 3
   },
   "file_extension": ".py",
   "mimetype": "text/x-python",
   "name": "python",
   "nbconvert_exporter": "python",
   "pygments_lexer": "ipython3",
   "version": "3.10.12"
  }
 },
 "nbformat": 4,
 "nbformat_minor": 2
}
